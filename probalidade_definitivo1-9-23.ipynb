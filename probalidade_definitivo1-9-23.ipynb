{
 "cells": [
  {
   "cell_type": "markdown",
   "metadata": {},
   "source": [
    "# aula_5_de_probabilidade"
   ]
  },
  {
   "cell_type": "markdown",
   "metadata": {},
   "source": [
    "## probabilidade de um evento ocorrer em um espaço amostral equiprovável.\n",
    "\n",
    " "
   ]
  },
  {
   "cell_type": "markdown",
   "metadata": {},
   "source": [
    "## A probabilidade binomial é uma medida estatística que descreve a probabilidade de um evento binário (um evento que pode ter apenas dois resultados possíveis, como sucesso ou fracasso) "
   ]
  },
  {
   "cell_type": "markdown",
   "metadata": {},
   "source": [
    "## A distribuição de Poisson é uma distribuição de probabilidade usada para modelar o número de eventos raros que ocorrem em um intervalo fixo de tempo ou espaço.\n"
   ]
  },
  {
   "cell_type": "code",
   "execution_count": 6,
   "metadata": {},
   "outputs": [
    {
     "name": "stdout",
     "output_type": "stream",
     "text": [
      "Escolha o cálculo desejado (probabilidade (pro) / binomial (bin)/ poisson poi\n",
      "A probabilidade é: 0.10000000\n",
      "A porcentagem é: 10.00%\n"
     ]
    }
   ],
   "source": [
    "import math\n",
    "\n",
    "\n",
    "class Probabilidade:\n",
    "   \n",
    "    def calcular_probabilidade(eventos_favoraveis, eventos_possiveis):\n",
    "        probabilidade = eventos_favoraveis / eventos_possiveis\n",
    "        return probabilidade\n",
    "\n",
    "    \n",
    "    def calcular_probabilidade_porcentagem(eventos_favoraveis, eventos_possiveis):\n",
    "        probabilidade = eventos_favoraveis / eventos_possiveis\n",
    "        probabilidadepocentagem = probabilidade * 100\n",
    "        return probabilidadepocentagem\n",
    "    \n",
    "# usei class para me organisar experintação, pos foi recentimemente proposto o uso por outro professor.\n",
    "# e no momento da progamação ainda não tinha intedido no que se aplicava tal metodo.\n",
    "class ProbabilidadeBinomial:\n",
    "    \n",
    "    def calcular_probabilidade_binomial(resultados_desejados, lancamentos_feitos, probabilidade_resultado):\n",
    "        numero_total_eventos = lancamentos_feitos\n",
    "        numero_eventos_desejados = resultados_desejados\n",
    "        probabilidade_resultado = probabilidade_resultado\n",
    "\n",
    "        probabilidade = (math.comb(numero_total_eventos, numero_eventos_desejados)) * \\\n",
    "            (probabilidade_resultado ** numero_eventos_desejados) * \\\n",
    "            ((1 - probabilidade_resultado) ** (numero_total_eventos - numero_eventos_desejados))\n",
    "\n",
    "        return probabilidade\n",
    "\n",
    "class ProbabilidadePoisson:\n",
    "    \n",
    "    def calcular_probabilidade_poisson(media, numero_de_ocorrencias):\n",
    "        probabilidade = (math.exp(-media) * media ** numero_de_ocorrencias) / math.factorial(numero_de_ocorrencias)\n",
    "        return probabilidade\n",
    "\n",
    "def calcular_probabilidade_total_poisson(media_desejada , numero_ocorrencias_desejadas):\n",
    "    probabilidade_total = 0\n",
    "    for k in range(numero_ocorrencias_desejadas + 1):\n",
    "        probabilidade_poisson = ProbabilidadePoisson.calcular_probabilidade_poisson(media_desejada, k)\n",
    "        probabilidade_total += probabilidade_poisson\n",
    "    return probabilidade_total\n",
    "\n",
    "# Escolha do cálculo\n",
    "print(\"Escolha o cálculo desejado (probabilidade (pro) / binomial (bin)/ poisson poi\")\n",
    "escolha = input(\" pro  / bin /  poi): \\n\").lower()\n",
    "\n",
    "if escolha == \"pro\":\n",
    "    eventos_favoraveis = int(input(\"Numero de eventos favoráveis:\\n \"))\n",
    "    eventos_possiveis = int(input(\"Numero TOTAL de eventos possíveis:\\n \"))\n",
    "    probabilidade = Probabilidade.calcular_probabilidade(eventos_favoraveis, eventos_possiveis)\n",
    "    porcentagem_probabilidade = Probabilidade.calcular_probabilidade_porcentagem(eventos_favoraveis, eventos_possiveis)\n",
    "    #'Probabilidade.calcular_probabilidade' seve para chamar algo na especifica class.\n",
    "    \n",
    "    print(f\"A probabilidade é: {probabilidade:.8f}\")\n",
    "    print(f\"A porcentagem é: {porcentagem_probabilidade:.2f}%\")\n",
    "\n",
    "elif escolha == \"bin\": \n",
    "    resultados_desejados = int(input(\"Numero de resultados desejados:\\n \"))\n",
    "    lancamentos_feitos = int(input(\"Numero de lançamentos feitos:\\n \"))\n",
    "    probabilidade_resultado = float(input(\"Probabilidade do resultado desejado:\\n \"))\n",
    "    probabilidade_binomial = ProbabilidadeBinomial.calcular_probabilidade_binomial(resultados_desejados, lancamentos_feitos, probabilidade_resultado)\n",
    "    #'ProbabilidadeBinomial.calcular_probabilidade_binomial' seve para chamar algo na especifica class.\n",
    "    print(f\"A probabilidade binomial é: {probabilidade_binomial:.8f}\")\n",
    "\n",
    "elif escolha == \"poi\":\n",
    "    forma = input(\"Forma simples? (s ou n): \\n\")\n",
    "\n",
    "    if forma == \"s\":\n",
    "        media_desejada = float(input(\"Media de ocorrências :\\n \"))\n",
    "        numero_ocorrencias_desejadas = int(input(\"Numero de ocorrências desejadas:\\n \"))\n",
    "        probabilidade_poisson = ProbabilidadePoisson.calcular_probabilidade_poisson(media_desejada, numero_ocorrencias_desejadas)\n",
    "        #'ProbabilidadePoisson.calcular_probabilidade_poisson' seve para chamar algo na especifica class.\n",
    "        print(f\"A probabilidade de ocorrerem {numero_ocorrencias_desejadas} ocorrencias com media de {media_desejada} e {probabilidade_poisson:.8f}\")\n",
    "    else:\n",
    "        media_desejada = float(input(\"Media desejada:\\n \"))\n",
    "        numero_ocorrencias_desejadas = int(input(\"Numero de ocorrências desejadas:\\n \"))\n",
    "        probabilidade_total = ProbabilidadePoisson.calcular_probabilidade_total_poisson(media_desejada, numero_ocorrencias_desejadas)\n",
    "        #'calcular_probabilidade_total_poisson' seve para chamar algo na especifica class.\n",
    "        print(f\"A probabilidade de ocorrerem menos que {numero_ocorrencias_desejadas} ocorrencias com media desejada de {media_desejada} e {probabilidade_total:.8f}\")\n",
    "\n",
    "else:\n",
    "    print(\"Escolha invalida.\")"
   ]
  },
  {
   "cell_type": "markdown",
   "metadata": {},
   "source": [
    "### As probabilidades de um investidor vender uma propriedade com lucro R$2.000, 00 de R$ 1500,00, R$ 500,00 ou com prejuízo de R$ 500,00  são respectivamente 0,22, 0,36, 0,28 e 0,14 respectivamente. Qual o lucro esperado de investidor?"
   ]
  },
  {
   "cell_type": "markdown",
   "metadata": {},
   "source": [
    "Lucro Esperado = (Lucro1 * Probabilidade1) + (Lucro2 * Probabilidade2) + (Lucro3 * Probabilidade3) + (Lucro4 * Probabilidade4)\n",
    "\n",
    "Substituindo os valores dados:\n",
    "\n",
    "Lucro Esperado = (2000 * 0,22) + (1500 * 0,36) + (500 * 0,28) + (-500 * 0,14)\n",
    "\n",
    "Agora, calculemos o lucro esperado:\n",
    "\n",
    "Lucro Esperado = 440 + 540 + 140 - 70\n",
    "\n",
    "Lucro Esperado = R$1.050,00"
   ]
  },
  {
   "cell_type": "markdown",
   "metadata": {},
   "source": [
    "### O número de petroleiros que chegam a uma refinaria tem uma  média de dois petroleiros por dia. Desse modo, a probabilidade de a refinaria receber no máximo três petroleiros em dois dias são igual a?"
   ]
  },
  {
   "cell_type": "markdown",
   "metadata": {},
   "source": [
    "Podemos calcular as probabilidades para k = 0, 1, 2 e 3 e, em seguida, somá-las:\n",
    "\n",
    "P(X ≤ 3) = P(X = 0) + P(X = 1) + P(X = 2) + P(X = 3)\n",
    "\n",
    "Usando a fórmula da distribuição de Poisson para cada valor de k:\n",
    "\n",
    "P(X = 0) = (e^(-4) * 4^0) / 0! = (e^(-4) * 1) / 1 = e^(-4)\n",
    "\n",
    "P(X = 1) = (e^(-4) * 4^1) / 1! = (e^(-4) * 4) / 1 = 4e^(-4)\n",
    "\n",
    "P(X = 2) = (e^(-4) * 4^2) / 2! = (e^(-4) * 16) / 2 = 8e^(-4)\n",
    "\n",
    "P(X = 3) = (e^(-4) * 4^3) / 3! = (e^(-4) * 64) / 6 = (32/3)e^(-4)\n",
    "\n",
    "Agora, somamos essas probabilidades:\n",
    "\n",
    "P(X ≤ 3) = e^(-4) + 4e^(-4) + 8e^(-4) + (32/3)e^(-4)\n",
    "\n",
    "P(X ≤ 3) = (1 + 4 + 8 + 32/3)e^(-4)\n",
    "\n",
    "Agora, calculemos o valor numérico:\n",
    "\n",
    "P(X ≤ 3) ≈ (45/3)e^(-4) ≈ 15e^(-4)\n",
    "\n",
    "Aproximadamente:\n",
    "\n",
    "P(X ≤ 3) ≈ 0.0902"
   ]
  },
  {
   "cell_type": "markdown",
   "metadata": {},
   "source": [
    "### Os diferentes modos de organizar as letras de uma palavra são chamados de anagramas. Quantos anagramas existem para a palavra CATO?"
   ]
  },
  {
   "cell_type": "markdown",
   "metadata": {},
   "source": [
    "N = n!\n",
    "\n",
    "N = 4!\n",
    "\n",
    "N = 4 x 3 x 2 x 1\n",
    "\n",
    "N = 24"
   ]
  },
  {
   "cell_type": "markdown",
   "metadata": {},
   "source": [
    "\n",
    " ### Um casal pretende ter filhos. Sabe-se que a cada mês a probabilidade da mulher engravidar é de 20%. Qual é a probabilidade dela vir a engravidar somente no quarto mês de tentativas?"
   ]
  },
  {
   "cell_type": "markdown",
   "metadata": {},
   "source": [
    "A probabilidade de ela não engravidar em um mês é de 1 - 0,20 = 0,80 (80%). Isso significa que a probabilidade de não engravidar nos três primeiros meses é:\n",
    "\n",
    "0,80 * 0,80 * 0,80 = 0,512\n",
    "\n",
    "Agora, para calcular a probabilidade de engravidar somente no quarto mês, multiplicamos a probabilidade de não engravidar nos três primeiros meses pela probabilidade de engravidar no quarto mês:\n",
    "\n",
    "0,512 * 0,20 = 0,1024\n",
    "\n",
    "Portanto, a probabilidade de a mulher engravidar somente no quarto mês de tentativas é de aproximadamente 0,1024, o que equivale a 10,24%.\n",
    "\n",
    "\n",
    "\n",
    "\n"
   ]
  }
 ],
 "metadata": {
  "kernelspec": {
   "display_name": "Python 3",
   "language": "python",
   "name": "python3"
  },
  "language_info": {
   "codemirror_mode": {
    "name": "ipython",
    "version": 3
   },
   "file_extension": ".py",
   "mimetype": "text/x-python",
   "name": "python",
   "nbconvert_exporter": "python",
   "pygments_lexer": "ipython3",
   "version": "3.11.0"
  },
  "orig_nbformat": 4
 },
 "nbformat": 4,
 "nbformat_minor": 2
}
