{
 "cells": [
  {
   "cell_type": "code",
   "execution_count": 2,
   "metadata": {},
   "outputs": [],
   "source": [
    "import math"
   ]
  },
  {
   "cell_type": "code",
   "execution_count": 3,
   "metadata": {},
   "outputs": [],
   "source": [
    "def valida_cpf(cpf):\n",
    "    soma=0\n",
    "    valor=10\n",
    "    for i in range(0,9):\n",
    "        soma += int(cpf[i])*valor\n",
    "        valor -= 1\n",
    "    resto = soma % 11\n",
    "    if resto <2:\n",
    "        dv1 =0\n",
    "    else:\n",
    "        dv1= 11 - resto\n",
    "    "
   ]
  },
  {
   "cell_type": "markdown",
   "metadata": {},
   "source": [
    "Exercício 1: Classe Pessoa\n",
    "Crie uma classe chamada Pessoa com atributos como nome, idade e profissão. Crie métodos para imprimir os atributos e calcular a idade da pessoa daqui a 10 anos.\n"
   ]
  },
  {
   "cell_type": "code",
   "execution_count": 4,
   "metadata": {},
   "outputs": [
    {
     "name": "stdout",
     "output_type": "stream",
     "text": [
      "Alice\n",
      "30\n",
      "dentista\n"
     ]
    }
   ],
   "source": [
    "class Pessoa:\n",
    "    def __init__(self, nome, idade, profissao):\n",
    "        self.nome = nome\n",
    "        self.idade = idade\n",
    "        self.profissao = profissao\n",
    "\n",
    "pessoa1 = Pessoa(\"Alice\", 30, \"dentista\")\n",
    "print(pessoa1.nome)\n",
    "print(pessoa1.idade)\n",
    "print(pessoa1.profissao)\n"
   ]
  },
  {
   "cell_type": "markdown",
   "metadata": {},
   "source": [
    "Exercício 2: Classe Banco\n",
    "Crie uma classe ContaBancaria com atributos como número da conta e saldo. Adicione métodos para depositar, sacar e exibir o saldo.\n"
   ]
  },
  {
   "cell_type": "code",
   "execution_count": 9,
   "metadata": {},
   "outputs": [
    {
     "name": "stdout",
     "output_type": "stream",
     "text": [
      "Saldo da conta 12345: 1000\n",
      "Depósito de 500 realizado. Novo saldo: 1500\n",
      "Saque de 300 realizado. Novo saldo: 1200\n",
      "Saldo da conta 12345: 1200\n"
     ]
    }
   ],
   "source": [
    "class ContaBancaria:\n",
    "    def __init__(self, numero_conta, saldo_inicial=0):\n",
    "        self.numero_conta = numero_conta\n",
    "        self.saldo = saldo_inicial\n",
    "\n",
    "    def depositar(self, valor):\n",
    "        if valor > 0:\n",
    "            self.saldo += valor\n",
    "            print(f\"Depósito de {valor} realizado. Novo saldo: {self.saldo}\")\n",
    "        else:\n",
    "            print(\"Valor inválido para depósito.\")\n",
    "\n",
    "    def sacar(self, valor):\n",
    "        if 0 < valor <= self.saldo:\n",
    "            self.saldo -= valor\n",
    "            print(f\"Saque de {valor} realizado. Novo saldo: {self.saldo}\")\n",
    "        else:\n",
    "            print(\"Saldo insuficiente ou valor inválido para saque.\")\n",
    "\n",
    "    def exibir_saldo(self):\n",
    "        print(f\"Saldo da conta {self.numero_conta}: {self.saldo}\")\n",
    "\n",
    "\n",
    "conta = ContaBancaria(\"12345\", 1000)\n",
    "conta.exibir_saldo()\n",
    "conta.depositar(500)\n",
    "conta.sacar(300)\n",
    "conta.exibir_saldo()\n"
   ]
  },
  {
   "cell_type": "code",
   "execution_count": 6,
   "metadata": {},
   "outputs": [
    {
     "name": "stdout",
     "output_type": "stream",
     "text": [
      "Saldo da conta 12345: 1000\n",
      "Depósito de 500 realizado. Novo saldo: 1500\n",
      "Saque de 300 realizado. Novo saldo: 1200\n",
      "Saldo da conta 12345: 1200\n"
     ]
    }
   ],
   "source": [
    "class ContaBancaria:\n",
    "    def __init__(self, numero_conta, nome, saldo_inicial=0):\n",
    "        self.numero_conta = numero_conta\n",
    "        self.saldo = saldo_inicial\n",
    "        self.nome = nome\n",
    "\n",
    "    def depositar(self, valor):\n",
    "        if valor > 0:\n",
    "            self.saldo += valor\n",
    "            print(f\"Depósito de {valor} realizado. Novo saldo: {self.saldo}\")\n",
    "        else:\n",
    "            print(\"Valor inválido para depósito.\")\n",
    "\n",
    "    def sacar(self, valor):\n",
    "        if 0 < valor <= self.saldo:\n",
    "            self.saldo -= valor\n",
    "            print(f\"Saque de {valor} realizado. Novo saldo: {self.saldo}\")\n",
    "        else:\n",
    "            print(\"Saldo insuficiente ou valor inválido para saque.\")\n",
    "\n",
    "    def exibir_saldo(self):\n",
    "        print(f\"Saldo da conta {self.numero_conta}: {self.saldo}\")\n",
    "\n",
    "\n",
    "conta = ContaBancaria(\"12345\", \"pedro\", 1000)\n",
    "conta.exibir_saldo()\n",
    "conta.depositar(500)\n",
    "conta.sacar(300)\n",
    "conta.exibir_saldo()\n"
   ]
  },
  {
   "cell_type": "markdown",
   "metadata": {},
   "source": [
    "Exercício 4: Classe Geometria\n",
    "Crie uma classe FiguraGeometrica com métodos para calcular área e perímetro. Derive classes como\n",
    "Retangulo, Círculo e Triangulo que herdem de FiguraGeometrica\n"
   ]
  },
  {
   "cell_type": "code",
   "execution_count": 22,
   "metadata": {},
   "outputs": [
    {
     "ename": "NameError",
     "evalue": "name 'math' is not defined",
     "output_type": "error",
     "traceback": [
      "\u001b[1;31m---------------------------------------------------------------------------\u001b[0m",
      "\u001b[1;31mNameError\u001b[0m                                 Traceback (most recent call last)",
      "Cell \u001b[1;32mIn[22], line 77\u001b[0m\n\u001b[0;32m     74\u001b[0m     \u001b[39mprint\u001b[39m(\u001b[39m\"\u001b[39m\u001b[39mFigura não reconhecida.\u001b[39m\u001b[39m\"\u001b[39m)\n\u001b[0;32m     76\u001b[0m \u001b[39mif\u001b[39;00m figura:\n\u001b[1;32m---> 77\u001b[0m     \u001b[39mprint\u001b[39m(\u001b[39mf\u001b[39m\u001b[39m\"\u001b[39m\u001b[39mÁrea da figura: \u001b[39m\u001b[39m{\u001b[39;00mfigura\u001b[39m.\u001b[39;49mcalcular_area()\u001b[39m}\u001b[39;00m\u001b[39m\"\u001b[39m)\n\u001b[0;32m     78\u001b[0m     \u001b[39mprint\u001b[39m(\u001b[39mf\u001b[39m\u001b[39m\"\u001b[39m\u001b[39mPerímetro da figura: \u001b[39m\u001b[39m{\u001b[39;00mfigura\u001b[39m.\u001b[39mcalcular_perimetro()\u001b[39m}\u001b[39;00m\u001b[39m\"\u001b[39m)\n",
      "Cell \u001b[1;32mIn[22], line 41\u001b[0m, in \u001b[0;36mTriangulo.calcular_area\u001b[1;34m(self)\u001b[0m\n\u001b[0;32m     39\u001b[0m \u001b[39mdef\u001b[39;00m \u001b[39mcalcular_area\u001b[39m(\u001b[39mself\u001b[39m):\n\u001b[0;32m     40\u001b[0m     s \u001b[39m=\u001b[39m (\u001b[39mself\u001b[39m\u001b[39m.\u001b[39mlado1 \u001b[39m+\u001b[39m \u001b[39mself\u001b[39m\u001b[39m.\u001b[39mlado2 \u001b[39m+\u001b[39m \u001b[39mself\u001b[39m\u001b[39m.\u001b[39mlado3) \u001b[39m/\u001b[39m \u001b[39m2\u001b[39m\n\u001b[1;32m---> 41\u001b[0m     \u001b[39mreturn\u001b[39;00m math\u001b[39m.\u001b[39msqrt(s \u001b[39m*\u001b[39m (s \u001b[39m-\u001b[39m \u001b[39mself\u001b[39m\u001b[39m.\u001b[39mlado1) \u001b[39m*\u001b[39m (s \u001b[39m-\u001b[39m \u001b[39mself\u001b[39m\u001b[39m.\u001b[39mlado2) \u001b[39m*\u001b[39m (s \u001b[39m-\u001b[39m \u001b[39mself\u001b[39m\u001b[39m.\u001b[39mlado3))\n",
      "\u001b[1;31mNameError\u001b[0m: name 'math' is not defined"
     ]
    }
   ],
   "source": [
    "class FiguraGeometrica:\n",
    "    def calcular_area(self):\n",
    "        pass\n",
    "\n",
    "    def calcular_perimetro(self):\n",
    "        pass\n",
    "\n",
    "\n",
    "class Retangulo(FiguraGeometrica):\n",
    "    def __init__(self, base, altura):\n",
    "        self.base = base\n",
    "        self.altura = altura\n",
    "    \n",
    "    def calcular_area(self):\n",
    "        return self.base * self.altura\n",
    "    \n",
    "    def calcular_perimetro(self):\n",
    "        return 2 * (self.base + self.altura)\n",
    "    \n",
    "\n",
    "class Circulo(FiguraGeometrica):\n",
    "    def __init__(self, raio):\n",
    "        self.raio = raio\n",
    "    \n",
    "    def calcular_area(self):\n",
    "        return math.pi * self.raio ** 2\n",
    "    \n",
    "    def calcular_perimetro(self):\n",
    "        return 2 * math.pi * self.raio\n",
    "    \n",
    "\n",
    "class Triangulo(FiguraGeometrica):\n",
    "    \n",
    "    def __init__(self, lado1, lado2, lado3):\n",
    "        self.lado1 = lado1\n",
    "        self.lado2 = lado2\n",
    "        self.lado3 = lado3\n",
    "    \n",
    "    def calcular_area(self):\n",
    "        s = (self.lado1 + self.lado2 + self.lado3) / 2\n",
    "        return math.sqrt(s * (s - self.lado1) * (s - self.lado2) * (s - self.lado3))\n",
    "    \n",
    "    def calcular_perimetro(self):\n",
    "        return self.lado1 + self.lado2 + self.lado3\n",
    "\n",
    "# Função para obter um número real positivo do usuário\n",
    "def obter_numero_positivo(mensagem):\n",
    "    while True:\n",
    "        try:\n",
    "            valor = float(input(mensagem))\n",
    "            if valor > 0:\n",
    "                return valor\n",
    "            else:\n",
    "                print(\"Valor inválido. Digite um número positivo.\")\n",
    "        except ValueError:\n",
    "            print(\"Entrada inválida. Digite um número válido.\")\n",
    "\n",
    "# Exemplo de uso com inputs\n",
    "tipo_figura = input(\"Digite o tipo de figura (retangulo, circulo ou triangulo): \").lower()\n",
    "\n",
    "if tipo_figura == \"retangulo\":\n",
    "    base = obter_numero_positivo(\"Digite a base do retângulo: \")\n",
    "    altura = obter_numero_positivo(\"Digite a altura do retângulo: \")\n",
    "    figura = Retangulo(base, altura)\n",
    "elif tipo_figura == \"circulo\":\n",
    "    raio = obter_numero_positivo(\"Digite o raio do círculo: \")\n",
    "    figura = Circulo(raio)\n",
    "elif tipo_figura == \"triangulo\":\n",
    "    lado1 = obter_numero_positivo(\"Digite o primeiro lado do triângulo: \")\n",
    "    lado2 = obter_numero_positivo(\"Digite o segundo lado do triângulo: \")\n",
    "    lado3 = obter_numero_positivo(\"Digite o terceiro lado do triângulo: \")\n",
    "    figura = Triangulo(lado1, lado2, lado3)\n",
    "else:\n",
    "    print(\"Figura não reconhecida.\")\n",
    "\n",
    "if figura:\n",
    "    print(f\"Área da figura: {figura.calcular_area()}\")\n",
    "    print(f\"Perímetro da figura: {figura.calcular_perimetro()}\")\n",
    "\n",
    "\n",
    "        \n",
    "\n"
   ]
  },
  {
   "cell_type": "code",
   "execution_count": 21,
   "metadata": {},
   "outputs": [],
   "source": [
    "class aula:\n",
    "    def __init__(self,lista) :\n",
    "        self.lista=lista\n",
    "\n",
    "    def localoza_elemento(self,n):\n",
    "\n",
    "        if n==0:#c1\n",
    "            print(\"erro:lista vazia\")\n",
    "        \n",
    "        else:\n",
    "            max = self.lista[1]#c2\n",
    "            for i in range(2,len (self.lista )):#c3\n",
    "                if self.lista [i]>max:#c4\n",
    "                    max =self.lista[i]#c5\n",
    "        return max#c6\n"
   ]
  },
  {
   "cell_type": "code",
   "execution_count": 7,
   "metadata": {},
   "outputs": [],
   "source": [
    "class Aula:\n",
    "    def __init__(self, lista):\n",
    "        self.lista = lista\n",
    "\n",
    "    def localiza_elemento(self):\n",
    "        if len(self.lista) == 0:\n",
    "            print(\"Erro: lista vazia\")\n",
    "            return None\n",
    "\n",
    "        max_element = self.lista[0]  # Inicializa com o primeiro elemento da lista\n",
    "        for i in range(1, len(self.lista)):\n",
    "            if self.lista[i] > max_element:\n",
    "                max_element = self.lista[i]\n",
    "\n",
    "        return max_element\n",
    "    \n"
   ]
  },
  {
   "cell_type": "code",
   "execution_count": 8,
   "metadata": {},
   "outputs": [],
   "source": [
    "\n",
    "import random\n",
    "\n",
    "N=10\n",
    "\n",
    "lista_aleatoria=[]\n",
    "\n",
    "for i in range(N):\n",
    "    lista_aleatoria.append(random. randint (1,1000)) \n",
    "    \n",
    "\n"
   ]
  },
  {
   "cell_type": "code",
   "execution_count": 9,
   "metadata": {},
   "outputs": [
    {
     "name": "stdout",
     "output_type": "stream",
     "text": [
      "[78, 799, 662, 612, 383, 942, 609, 762, 258, 470]\n",
      "maior elemento da lista = 942\n"
     ]
    }
   ],
   "source": [
    "teste = Aula(lista_aleatoria)\n",
    "\n",
    "print(teste.lista)\n",
    "\n",
    "maior_elemento = teste.localiza_elemento()\n",
    "\n",
    "print(f\"maior elemento da lista = {maior_elemento}\") \n",
    "   \n"
   ]
  },
  {
   "cell_type": "markdown",
   "metadata": {},
   "source": [
    "\\/\\/\\/\\/\\/\\/\\/\\/\\/\\/\\/\\/\\/\\/\\/\\/\\/\\/\\/\\/\\/\\/\\/\\/\\/\\/\\/\\/\\/\\/\\/\\/\\/\\/"
   ]
  },
  {
   "cell_type": "code",
   "execution_count": 20,
   "metadata": {},
   "outputs": [
    {
     "name": "stdout",
     "output_type": "stream",
     "text": [
      "(500500, datetime.timedelta(microseconds=999))\n",
      "(500500, datetime.timedelta(microseconds=998))\n",
      "(500500, datetime.timedelta(microseconds=999))\n",
      "(500500, datetime.timedelta(microseconds=959))\n",
      "(500500, datetime.timedelta(microseconds=1042))\n"
     ]
    }
   ],
   "source": [
    "import time\n",
    "import datetime \n",
    "\n",
    "def somatorio(n):\n",
    "    inicio = datetime.datetime.now()\n",
    "    soma=0\n",
    "    for i in range(1,n+1):\n",
    "        soma = soma+i\n",
    "        fim = datetime.datetime.now()\n",
    "    return(soma,fim-inicio)\n",
    "print(somatorio(1000))\n",
    "print(somatorio(1000))\n",
    "print(somatorio(1000))\n",
    "print(somatorio(1000))\n",
    "print(somatorio(1000))\n",
    "\n"
   ]
  }
 ],
 "metadata": {
  "kernelspec": {
   "display_name": "Python 3",
   "language": "python",
   "name": "python3"
  },
  "language_info": {
   "codemirror_mode": {
    "name": "ipython",
    "version": 3
   },
   "file_extension": ".py",
   "mimetype": "text/x-python",
   "name": "python",
   "nbconvert_exporter": "python",
   "pygments_lexer": "ipython3",
   "version": "3.11.0"
  },
  "orig_nbformat": 4
 },
 "nbformat": 4,
 "nbformat_minor": 2
}
